{
 "cells": [
  {
   "cell_type": "code",
   "execution_count": 1,
   "id": "7c268f51",
   "metadata": {},
   "outputs": [
    {
     "name": "stdout",
     "output_type": "stream",
     "text": [
      "La raiz x1 esta en: 5.1195831298828125\n",
      "f(x1) = -2.430364482108871e-06\n",
      "\n",
      "La raiz x2 esta en: -5.11956787109375\n",
      "f(x2) = -0.0008153974902214145\n",
      "\n",
      "La raiz x3 esta en: -1.71002197265625\n",
      "f(x3) = -0.00038834857500091857\n"
     ]
    }
   ],
   "source": [
    "# Ejercicio 3\n",
    "\n",
    "def f(x):\n",
    "    return (x**3) + (1.71 * (x**2)) - (26.21*x) - 44.82\n",
    "\n",
    "def bisection_method(f, start, end, e):\n",
    "    x1 = start\n",
    "    x2 = end\n",
    "    midpoint = (x1 + x2) / 2\n",
    "    \n",
    "    while abs(f(midpoint)) > e:\n",
    "        f1 = f(x1)\n",
    "        f2 = f(x2)\n",
    "        fm = f(midpoint)\n",
    "        \n",
    "        if(fm == 0):\n",
    "            return midpoint   \n",
    "        else:\n",
    "            if(f1*fm)<0:\n",
    "                x2 = midpoint\n",
    "            else:\n",
    "                x1 = midpoint\n",
    "        \n",
    "        midpoint = (x1 + x2) / 2\n",
    "        \n",
    "    return midpoint\n",
    "\n",
    "x = bisection_method(f,4.0,6.0,0.001)   \n",
    "print(f\"La raiz x1 esta en: {x}\")\n",
    "print(f\"f(x1) = {f(x)}\")\n",
    "\n",
    "x = bisection_method(f,-6.0,-4.0,0.001)   \n",
    "print(f\"\\nLa raiz x2 esta en: {x}\")\n",
    "print(f\"f(x2) = {f(x)}\")\n",
    "\n",
    "x = bisection_method(f,-0.5,-2.5,0.001)\n",
    "print(f\"\\nLa raiz x3 esta en: {x}\")\n",
    "print(f\"f(x3) = {f(x)}\")"
   ]
  },
  {
   "cell_type": "code",
   "execution_count": null,
   "id": "ad1bef15",
   "metadata": {},
   "outputs": [],
   "source": []
  }
 ],
 "metadata": {
  "kernelspec": {
   "display_name": "Python 3",
   "language": "python",
   "name": "python3"
  },
  "language_info": {
   "codemirror_mode": {
    "name": "ipython",
    "version": 3
   },
   "file_extension": ".py",
   "mimetype": "text/x-python",
   "name": "python",
   "nbconvert_exporter": "python",
   "pygments_lexer": "ipython3",
   "version": "3.8.8"
  }
 },
 "nbformat": 4,
 "nbformat_minor": 5
}
