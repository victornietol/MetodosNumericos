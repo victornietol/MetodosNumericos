{
 "cells": [
  {
   "cell_type": "code",
   "execution_count": 4,
   "id": "b7f8fd86",
   "metadata": {},
   "outputs": [
    {
     "name": "stdout",
     "output_type": "stream",
     "text": [
      "La raíz esta en x = 0.015633831188489766\n"
     ]
    }
   ],
   "source": [
    "# Ejercicio 2\n",
    "\n",
    "def f(x):\n",
    "    return (x**5) + (x**4) - (20*(x**3)) - (2*(x**2)) + (64*x) - 1\n",
    "\n",
    "def df(x):\n",
    "    return (5*(x**4)) + (4*(x**3)) -(60*(x**2)) - (4*x) + 64\n",
    "\n",
    "def newton_raphson_method(function,derivative,x):\n",
    "    incremental = 1 \n",
    "    incremental_Ant = 10\n",
    "    while abs(incremental)<abs(incremental_Ant):  \n",
    "        incremental_Ant = incremental\n",
    "        x = x -(function(x)/derivative(x))\n",
    "        incremental = (-(function(x)/derivative(x)))\n",
    "    return x\n",
    "\n",
    "x = newton_raphson_method(f,df,0.01)      \n",
    "print(f\"La raíz esta en x = {x}\")"
   ]
  },
  {
   "cell_type": "code",
   "execution_count": null,
   "id": "2e07deb3",
   "metadata": {},
   "outputs": [],
   "source": []
  }
 ],
 "metadata": {
  "kernelspec": {
   "display_name": "Python 3",
   "language": "python",
   "name": "python3"
  },
  "language_info": {
   "codemirror_mode": {
    "name": "ipython",
    "version": 3
   },
   "file_extension": ".py",
   "mimetype": "text/x-python",
   "name": "python",
   "nbconvert_exporter": "python",
   "pygments_lexer": "ipython3",
   "version": "3.8.8"
  }
 },
 "nbformat": 4,
 "nbformat_minor": 5
}
