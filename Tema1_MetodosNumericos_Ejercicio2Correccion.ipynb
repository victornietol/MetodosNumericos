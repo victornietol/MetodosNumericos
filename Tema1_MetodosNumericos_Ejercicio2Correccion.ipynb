{
  "nbformat": 4,
  "nbformat_minor": 0,
  "metadata": {
    "colab": {
      "name": "Tema1.MetodosNumericos_Ejercicio2Correccion.ipynb",
      "provenance": [],
      "authorship_tag": "ABX9TyNBSh1XZjCpr1hDyil9NbxJ",
      "include_colab_link": true
    },
    "kernelspec": {
      "name": "python3",
      "display_name": "Python 3"
    },
    "language_info": {
      "name": "python"
    }
  },
  "cells": [
    {
      "cell_type": "markdown",
      "metadata": {
        "id": "view-in-github",
        "colab_type": "text"
      },
      "source": [
        "<a href=\"https://colab.research.google.com/github/victornietol/MetodosNumericos_1360/blob/main/Tema1_MetodosNumericos_Ejercicio2Correccion.ipynb\" target=\"_parent\"><img src=\"https://colab.research.google.com/assets/colab-badge.svg\" alt=\"Open In Colab\"/></a>"
      ]
    },
    {
      "cell_type": "code",
      "metadata": {
        "colab": {
          "base_uri": "https://localhost:8080/"
        },
        "id": "T9En5MXOb_XY",
        "outputId": "af1f1584-f7ab-4d1a-989f-247afad148ca"
      },
      "source": [
        "#Ejercicio 2\n",
        "\n",
        "import math,cmath\n",
        "\n",
        "a = int(input(\"Ingresa el valor de a: \"))\n",
        "b = int(input(\"Ingresa el valor de b: \"))\n",
        "c = int(input(\"Ingresa el valor de c: \"))\n",
        "\n",
        "valorAux = (b**2) - (4*a*c)\n",
        "if valorAux<0:\n",
        "    valorRaiz = cmath.sqrt(valorAux)\n",
        "    x1 = (-(b) + valorRaiz) / 2*a\n",
        "    x2 = (-(b) - valorRaiz) / 2*a\n",
        "    print(f\"\\nLas raíces son x1 = {x1}, x2 = {x2}\")\n",
        "    \n",
        "else:\n",
        "    valorRaiz = math.sqrt(valorAux)\n",
        "    x1 = (-(b) + valorRaiz) / 2*a\n",
        "    x2 = (-(b) - valorRaiz) / 2*a\n",
        "    print(f\"\\nLas raíces son x1 = {x1}, x2 = {x2}\")"
      ],
      "execution_count": 1,
      "outputs": [
        {
          "output_type": "stream",
          "name": "stdout",
          "text": [
            "Ingresa el valor de a: 1\n",
            "Ingresa el valor de b: 5\n",
            "Ingresa el valor de c: 6\n",
            "\n",
            "Las raíces son x1 = -2.0, x2 = -3.0\n"
          ]
        }
      ]
    }
  ]
}