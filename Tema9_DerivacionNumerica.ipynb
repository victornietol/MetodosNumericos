{
  "nbformat": 4,
  "nbformat_minor": 0,
  "metadata": {
    "colab": {
      "name": "Tema9_DerivacionNumerica.ipynb",
      "provenance": [],
      "authorship_tag": "ABX9TyOzl43wzwn1AfAs+fK8lDXP",
      "include_colab_link": true
    },
    "kernelspec": {
      "name": "python3",
      "display_name": "Python 3"
    },
    "language_info": {
      "name": "python"
    }
  },
  "cells": [
    {
      "cell_type": "markdown",
      "metadata": {
        "id": "view-in-github",
        "colab_type": "text"
      },
      "source": [
        "<a href=\"https://colab.research.google.com/github/victornietol/MetodosNumericos_1360/blob/main/Tema9_DerivacionNumerica.ipynb\" target=\"_parent\"><img src=\"https://colab.research.google.com/assets/colab-badge.svg\" alt=\"Open In Colab\"/></a>"
      ]
    },
    {
      "cell_type": "code",
      "metadata": {
        "colab": {
          "base_uri": "https://localhost:8080/"
        },
        "id": "d5vOnbpqmJFk",
        "outputId": "99ca573d-945b-42e9-eb4e-8f03ef6f75ae"
      },
      "source": [
        "# Ejercicio 2\n",
        "\n",
        "from math import e\n",
        "h = 0.001\n",
        "\n",
        "def primera_derivada(x):\n",
        "  x1 = x+h\n",
        "  x2 = x-h\n",
        "  derivada1 = ( ((e**x1) + x1) - ((e**x2) + x2) ) / ( 2*h )\n",
        "  return derivada1\n",
        "\n",
        "def segunda_derivada(x):\n",
        "  x1 = x-h\n",
        "  x2 = x+h\n",
        "  f1 = (e**x1) + x1\n",
        "  f2 = (e**x) + x\n",
        "  f3 = (e**x2) + x2\n",
        "  derivada2 = (f1 - (2*f2) + f3) / (round((h**2),8))\n",
        "  return derivada2\n",
        "\n",
        "x = float(input(\"Ingresa el valor de x: \"))\n",
        "derivada1 = primera_derivada(x)\n",
        "derivada2 = segunda_derivada(x)\n",
        "print(f\"\\nPrimera derivada: {derivada1}\\nSegunda derivada: {derivada2}\")"
      ],
      "execution_count": 48,
      "outputs": [
        {
          "output_type": "stream",
          "name": "stdout",
          "text": [
            "Ingresa el valor de x: 2\n",
            "\n",
            "Primera derivada: 8.389057330439265\n",
            "Segunda derivada: 7.389056717599374\n"
          ]
        }
      ]
    }
  ]
}