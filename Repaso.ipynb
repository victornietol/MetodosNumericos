{
 "cells": [
  {
   "cell_type": "code",
   "execution_count": 1,
   "id": "ac98481f",
   "metadata": {},
   "outputs": [
    {
     "name": "stdout",
     "output_type": "stream",
     "text": [
      "The Zen of Python, by Tim Peters\n",
      "\n",
      "Beautiful is better than ugly.\n",
      "Explicit is better than implicit.\n",
      "Simple is better than complex.\n",
      "Complex is better than complicated.\n",
      "Flat is better than nested.\n",
      "Sparse is better than dense.\n",
      "Readability counts.\n",
      "Special cases aren't special enough to break the rules.\n",
      "Although practicality beats purity.\n",
      "Errors should never pass silently.\n",
      "Unless explicitly silenced.\n",
      "In the face of ambiguity, refuse the temptation to guess.\n",
      "There should be one-- and preferably only one --obvious way to do it.\n",
      "Although that way may not be obvious at first unless you're Dutch.\n",
      "Now is better than never.\n",
      "Although never is often better than *right* now.\n",
      "If the implementation is hard to explain, it's a bad idea.\n",
      "If the implementation is easy to explain, it may be a good idea.\n",
      "Namespaces are one honking great idea -- let's do more of those!\n"
     ]
    }
   ],
   "source": [
    "import this"
   ]
  },
  {
   "cell_type": "code",
   "execution_count": 7,
   "id": "8e7a2c1d",
   "metadata": {},
   "outputs": [
    {
     "name": "stdout",
     "output_type": "stream",
     "text": [
      "Puedo imprimir 1 , 2 o los argumentos que quiera\n",
      "Ahora imprimiremossin dar salto de linea\n"
     ]
    }
   ],
   "source": [
    "print(\"Puedo imprimir\",1,\",\",2,\"o\",\"los argumentos que quiera\")\n",
    "print(\"Ahora imprimiremos\",end=\" \")\n",
    "print(\"sin dar salto de linea\")"
   ]
  },
  {
   "cell_type": "code",
   "execution_count": 17,
   "id": "007af241",
   "metadata": {},
   "outputs": [
    {
     "name": "stdout",
     "output_type": "stream",
     "text": [
      "dame tu edad: 5\n",
      "en 10 años tendrás:  15.0  años\n"
     ]
    }
   ],
   "source": [
    "\n",
    "x = float(input(\"dame tu edad: \"))\n",
    "anos = x + 10\n",
    "print(\"en 10 años tendrás: \",anos, \" años\")"
   ]
  },
  {
   "cell_type": "code",
   "execution_count": 23,
   "id": "2bebe007",
   "metadata": {},
   "outputs": [
    {
     "name": "stdout",
     "output_type": "stream",
     "text": [
      "<class 'complex'>\n"
     ]
    }
   ],
   "source": [
    "a=4+2j\n",
    "print(type(a))"
   ]
  },
  {
   "cell_type": "code",
   "execution_count": 30,
   "id": "b055936e",
   "metadata": {},
   "outputs": [
    {
     "name": "stdout",
     "output_type": "stream",
     "text": [
      "<class 'str'> 6\n"
     ]
    }
   ],
   "source": [
    "a=6\n",
    "a1=str(a)\n",
    "print(type(a1),a1)\n"
   ]
  },
  {
   "cell_type": "code",
   "execution_count": 39,
   "id": "117d9fcd",
   "metadata": {},
   "outputs": [
    {
     "name": "stdout",
     "output_type": "stream",
     "text": [
      "Ingresa el valor de a: 1\n",
      "Ingresa el valor de b: -1\n",
      "Ingresa el valor de c: -6\n",
      "\n",
      "Las raices son:  3.0  y  -2.0\n"
     ]
    }
   ],
   "source": [
    "import math\n",
    "a = 0.0\n",
    "b = 0.0 \n",
    "c = 0.0\n",
    "\n",
    "a = float(input(\"Ingresa el valor de a: \"))\n",
    "b = float(input(\"Ingresa el valor de b: \"))\n",
    "c = float(input(\"Ingresa el valor de c: \"))\n",
    "\n",
    "d = math.sqrt((b**2)-(4*a*c))\n",
    "x1 = (-b+d)/(2*a)\n",
    "x2 = (-b-d)/(2*a)\n",
    "\n",
    "print(\"\\nLas raices son: \",x1,\" y \",x2)"
   ]
  },
  {
   "cell_type": "code",
   "execution_count": 42,
   "id": "03b36119",
   "metadata": {},
   "outputs": [
    {
     "name": "stdout",
     "output_type": "stream",
     "text": [
      "12.566370614359172\n"
     ]
    }
   ],
   "source": [
    "import math\n",
    "a = math.pi*4\n",
    "print(a)"
   ]
  },
  {
   "cell_type": "code",
   "execution_count": 47,
   "id": "16459f4a",
   "metadata": {},
   "outputs": [
    {
     "name": "stdout",
     "output_type": "stream",
     "text": [
      "Ingresa un número: -1\n",
      "Número incorrecto\n"
     ]
    }
   ],
   "source": [
    "a = int(input(\"Ingresa un número: \"))\n",
    "if (a > 0) and (a < 5):\n",
    "    print(\"Dentro de rango\")\n",
    "elif (a >=5):\n",
    "    print(\"Fuera de rango\")\n",
    "else:\n",
    "    print(\"Número incorrecto\")"
   ]
  },
  {
   "cell_type": "code",
   "execution_count": 59,
   "id": "988c276f",
   "metadata": {},
   "outputs": [
    {
     "name": "stdout",
     "output_type": "stream",
     "text": [
      "Ingrese el limite: 100\n",
      "1,2,3,4,5,6,7,8,9,10,11,12,13,14,15,16,17,18,19,20,21,22,23,24,25,26,27,28,29,30,31,32,33,34,35,36,37,38,39,40,41,42,43,44,45,46,47,48,49,50,51,52,53,54,55,56,57,58,59,60,61,62,63,64,65,66,67,68,69,70,71,72,73,74,75,76,77,78,79,80,81,82,83,84,85,86,87,88,89,90,91,92,93,94,95,96,97,98,99,100,"
     ]
    }
   ],
   "source": [
    "i=0\n",
    "numDado = int(input(\"Ingrese el limite: \"))\n",
    "\n",
    "if (numDado<1):\n",
    "    print(\"Número incorrecto\")\n",
    "else:\n",
    "    while (i<numDado):\n",
    "        \n",
    "        i+=1\n",
    "        print(i,end=\",\")\n"
   ]
  },
  {
   "cell_type": "code",
   "execution_count": 73,
   "id": "b8057dda",
   "metadata": {},
   "outputs": [
    {
     "name": "stdout",
     "output_type": "stream",
     "text": [
      "Ingresa el inicio: 10\n",
      "Ingresa el limite: 0\n",
      "Ingrese el aumento: -1\n",
      "10,9,8,7,6,5,4,3,2,1,"
     ]
    }
   ],
   "source": [
    "i = int(input(\"Ingresa el inicio: \"))\n",
    "b = int(input(\"Ingresa el limite: \"))\n",
    "c = int(input(\"Ingrese el aumento: \"))\n",
    "for i in range(i,b,c):\n",
    "    print(i,end=\",\")"
   ]
  },
  {
   "cell_type": "code",
   "execution_count": 77,
   "id": "7acdbb6b",
   "metadata": {},
   "outputs": [
    {
     "name": "stdout",
     "output_type": "stream",
     "text": [
      "Ingresa el minimo de la graifca: -10\n",
      "Ingresa el maximo de la grafica: 10\n",
      "Ingresa la precisión de la grafica: 0.01\n"
     ]
    },
    {
     "data": {
      "image/png": "[encoded data removed]",
      "text/plain": [
       "<Figure size 432x288 with 1 Axes>"
      ]
     },
     "metadata": {
      "needs_background": "light"
     },
     "output_type": "display_data"
    }
   ],
   "source": [
    "import numpy as np\n",
    "import matplotlib.pyplot as plt\n",
    "\n",
    "a = float(input(\"Ingresa el minimo de la gráfica: \"))\n",
    "b = float(input(\"Ingresa el maximo de la gráfica: \"))\n",
    "c = float(input(\"Ingresa la precisión de la gráfica: \"))\n",
    "x = np.arange(a,b,c)\n",
    "y = x**3\n",
    "\n",
    "plt.plot(x,y)\n",
    "plt.show()"
   ]
  },
  {
   "cell_type": "code",
   "execution_count": null,
   "id": "ddfa2e5d",
   "metadata": {},
   "outputs": [],
   "source": []
  }
 ],
 "metadata": {
  "kernelspec": {
   "display_name": "Python 3",
   "language": "python",
   "name": "python3"
  },
  "language_info": {
   "codemirror_mode": {
    "name": "ipython",
    "version": 3
   },
   "file_extension": ".py",
   "mimetype": "text/x-python",
   "name": "python",
   "nbconvert_exporter": "python",
   "pygments_lexer": "ipython3",
   "version": "3.8.8"
  }
 },
 "nbformat": 4,
 "nbformat_minor": 5
}
