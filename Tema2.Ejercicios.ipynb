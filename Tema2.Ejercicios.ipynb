{
 "cells": [
  {
   "cell_type": "code",
   "execution_count": 6,
   "id": "14f70fd8",
   "metadata": {},
   "outputs": [
    {
     "data": {
      "image/png": "[encoded data removed]",
      "text/plain": [
       "<Figure size 1008x576 with 1 Axes>"
      ]
     },
     "metadata": {
      "needs_background": "light"
     },
     "output_type": "display_data"
    }
   ],
   "source": [
    "# Ejercicio 1\n",
    "\n",
    "import numpy as np\n",
    "import matplotlib.pyplot as plt\n",
    "\n",
    "x = np.arange(-1.0,1.0,0.01)\n",
    "y = (x**5) + (x**4) - (20 * (x**3)) - (2 * (x**2)) + (64*x) - 1\n",
    "\n",
    "plt.figure(figsize = (14,8))\n",
    "plt.plot(x,y)\n",
    "\n",
    "plt.axhline(0,color = 'black')\n",
    "plt.axvline(0,color = 'black')\n",
    "plt.show()"
   ]
  },
  {
   "cell_type": "code",
   "execution_count": 45,
   "id": "cc9d75e1",
   "metadata": {},
   "outputs": [
    {
     "name": "stdout",
     "output_type": "stream",
     "text": [
      "La menor de las raíces positivas está en el intervalo: (0.014 , 0.016)\n",
      "\n",
      "EL INTERVALO FINAL APLICANDO EL MÉTODO DE BISECCIÓN ES: (0.0155 , 0.01575)\n"
     ]
    }
   ],
   "source": [
    "# Ejercicio 1\n",
    "\n",
    "def f(x):\n",
    "    return (x**5) + (x**4) - (20 * (x**3)) - (2 * (x**2)) + (64*x) - 1\n",
    "\n",
    "def incremental_search_method(start,end,delta_x):\n",
    "    x1 = start\n",
    "    x2 = start + delta_x\n",
    "    \n",
    "    while x2 <= end:\n",
    "    \n",
    "        f1 = f(x1)\n",
    "        f1 = format(f1,'.6f')\n",
    "        f1 = float(f1)\n",
    "        f2 = f(x2)\n",
    "        f2 = format(f2,'.6f')\n",
    "        f2 = float(f2)\n",
    "        \n",
    "        if (f1 * f2) <= 0:\n",
    "            return x1,x2  \n",
    "        \n",
    "        x1 = x1 + delta_x\n",
    "        x1 = format(x1,'.6f')\n",
    "        x1 = float(x1)\n",
    "        x2 = x2 + delta_x\n",
    "        x2 = format(x2,'.6f')\n",
    "        x2 = float(x2)\n",
    "    \n",
    "    return 0,0          \n",
    "                        \n",
    "a,b = incremental_search_method(0.000000,1.000000,0.002000)\n",
    "print(f\"La menor de las raíces positivas está en el intervalo: ({a} , {b})\")\n",
    "\n",
    "\n",
    "def bisection_method(function, start, end, iterations):\n",
    "    x_1 = start\n",
    "    x_2 = end\n",
    "    midpoint = (x_1 + x_2) / 2\n",
    "    \n",
    "    for i in range(0, iterations):\n",
    "        f1 = function(x_1)\n",
    "        f2 = function(x_2)\n",
    "        fm = function(midpoint)\n",
    "       \n",
    "        if(fm == 0):\n",
    "            return midpoint   \n",
    "        else:\n",
    "            if(f1*fm)<0:\n",
    "                x_2 = midpoint\n",
    "            else:\n",
    "                x_1 = midpoint\n",
    "        \n",
    "        midpoint = (x_1 + x_2) / 2\n",
    "        \n",
    "    return x_1,x_2\n",
    "\n",
    "\n",
    "d,e = bisection_method(f,a,b,3)\n",
    "print(f\"\\nEL INTERVALO FINAL APLICANDO EL MÉTODO DE BISECCIÓN ES: ({d} , {e})\")"
   ]
  },
  {
   "cell_type": "code",
   "execution_count": 123,
   "id": "87548050",
   "metadata": {},
   "outputs": [
    {
     "name": "stdout",
     "output_type": "stream",
     "text": [
      "Ingresa el primer valor del intervalo arbitrario: 1\n",
      "Ingresa el segundo valor del intervalo arbitrario: 5\n",
      "Incremento =  1.0\n",
      "Prueba intervalo: (2.0 , 3.0)\n",
      "Incremento =  0.1\n",
      "Prueba intervalo: (2.0 , 2.1)\n",
      "Incremento =  0.01\n",
      "Prueba intervalo: (2.07 , 2.08)\n",
      "Incremento =  0.001\n",
      "Prueba intervalo: (2.079 , 2.08)\n",
      "Incremento =  0.0001\n",
      "Prueba intervalo: (2.0794 , 2.0795)\n",
      "Incremento =  1e-05\n",
      "Prueba intervalo: (2.07944 , 2.07945)\n",
      "Incremento =  1.0000000000000002e-06\n",
      "Prueba intervalo: (2.079441 , 2.079442)\n",
      "Incremento =  1.0000000000000002e-07\n",
      "Prueba intervalo: (2.0794415 , 2.0794416)\n",
      "Incremento =  1.0000000000000002e-08\n",
      "Prueba intervalo: (2.07944154 , 2.07944155)\n",
      "\n",
      "La raíz se encuentra en el intervalo: (2.07944154 , 2.07944155)\n",
      "Por lo tanto, se puede concluir que la raíz se encuentra en: 2.079441541\n"
     ]
    }
   ],
   "source": [
    "#Ejercicio 2\n",
    "\n",
    "from math import e\n",
    "\n",
    "a = float(input(\"Ingresa el primer valor del intervalo arbitrario: \"))\n",
    "b = float(input(\"Ingresa el segundo valor del intervalo arbitrario: \"))\n",
    "\n",
    "def f(x):\n",
    "    return (e**x) - 8\n",
    "\n",
    "def incremental_search_method(start,end,delta_x):\n",
    "    x1 = start\n",
    "    x2 = start + delta_x\n",
    "    \n",
    "    while x2 <= end:\n",
    "    \n",
    "        f1 = f(x1)\n",
    "        f1 = format(f1,'.9f')\n",
    "        f1 = float(f1)\n",
    "        f2 = f(x2)\n",
    "        f2 = format(f2,'.9f')\n",
    "        f2 = float(f2)\n",
    "        \n",
    "        if (f1 * f2) <= 0:\n",
    "            return x1,x2  \n",
    "        \n",
    "        x1 = x1 + delta_x\n",
    "        x1 = format(x1,'.9f')\n",
    "        x1 = float(x1)\n",
    "        x2 = x2 + delta_x\n",
    "        x2 = format(x2,'.9f')\n",
    "        x2 = float(x2)\n",
    "    \n",
    "    return 0,0\n",
    "\n",
    "aux = 1.0\n",
    "while aux>=0.00000001:\n",
    "  print(\"Incremento = \",aux)\n",
    "  a,b = incremental_search_method(a,b,aux) \n",
    "  aux = aux/10\n",
    "  print(f\"Prueba intervalo: ({a} , {b})\")\n",
    "    \n",
    "print(f\"\\nLa raíz se encuentra en el intervalo: ({a} , {b})\")\n",
    "print(f\"Por lo tanto, se puede concluir que la raíz se encuentra en: {a+0.000000001}\")"
   ]
  },
  {
   "cell_type": "code",
   "execution_count": 161,
   "id": "440673c3",
   "metadata": {},
   "outputs": [
    {
     "name": "stdout",
     "output_type": "stream",
     "text": [
      "La raiz x1 esta en: 5.11962890625\n",
      "f(x1) = 0.0031987178558310347\n",
      "\n",
      "La raiz x2 esta en: -5.11962890625\n",
      "f(x2) = -0.0029462468856777946\n",
      "\n",
      "La raiz x3 esta en: -1.71044921875\n",
      "f(x3) = 0.009559772652572462\n"
     ]
    }
   ],
   "source": [
    "# Ejercicio 3 opc.1\n",
    "\n",
    "def f(x):\n",
    "    return (x**3) + (1.71 * (x**2)) - (26.21*x) - 44.82\n",
    "\n",
    "def bisection_method(f, start, end, error):\n",
    "    x1 = start\n",
    "    x2 = end\n",
    "    midpoint = (x1 + x2) / 2\n",
    "\n",
    "    while (abs(x2-x1)) > error:\n",
    "        f1 = f(x1)\n",
    "        f2 = f(x2)\n",
    "        fm = f(midpoint)\n",
    "        \n",
    "        if(fm == 0):\n",
    "            return midpoint   \n",
    "        else:\n",
    "            if(f1*fm)<0:\n",
    "                x2 = midpoint\n",
    "            else:\n",
    "                x1 = midpoint\n",
    "        \n",
    "        midpoint = (x1 + x2) / 2\n",
    "        \n",
    "    return midpoint\n",
    "\n",
    "x = bisection_method(f,4.0,6.0,0.001)   \n",
    "print(f\"La raiz x1 esta en: {x}\")\n",
    "print(f\"f(x1) = {f(x)}\")\n",
    "\n",
    "x = bisection_method(f,-6.0,-4.0,0.001)   \n",
    "print(f\"\\nLa raiz x2 esta en: {x}\")\n",
    "print(f\"f(x2) = {f(x)}\")\n",
    "\n",
    "x = bisection_method(f,-0.5,-2.5,0.001)\n",
    "print(f\"\\nLa raiz x3 esta en: {x}\")\n",
    "print(f\"f(x3) = {f(x)}\")"
   ]
  },
  {
   "cell_type": "code",
   "execution_count": 197,
   "id": "f35e3575",
   "metadata": {},
   "outputs": [
    {
     "name": "stdout",
     "output_type": "stream",
     "text": [
      "La raiz x1 esta en: 5.1195831298828125\n",
      "f(x1) = -2.430364482108871e-06\n",
      "\n",
      "La raiz x2 esta en: -5.11956787109375\n",
      "f(x2) = -0.0008153974902214145\n",
      "\n",
      "La raiz x3 esta en: -1.71002197265625\n",
      "f(x3) = -0.00038834857500091857\n"
     ]
    }
   ],
   "source": [
    "# Ejercicio 3 opc.2\n",
    "\n",
    "def f(x):\n",
    "    return (x**3) + (1.71 * (x**2)) - (26.21*x) - 44.82\n",
    "\n",
    "def bisection_method(f, start, end, error):\n",
    "    x1 = start\n",
    "    x2 = end\n",
    "    midpoint = (x1 + x2) / 2\n",
    "    aux = error + 0.001\n",
    "    aux2 = error - 0.001\n",
    "    \n",
    "    while (f(midpoint) < aux2) or (aux < f(midpoint)):\n",
    "        f1 = f(x1)\n",
    "        f2 = f(x2)\n",
    "        fm = f(midpoint)\n",
    "        \n",
    "        if(fm == 0):\n",
    "            return midpoint   \n",
    "        else:\n",
    "            if(f1*fm)<0:\n",
    "                x2 = midpoint\n",
    "            else:\n",
    "                x1 = midpoint\n",
    "        \n",
    "        midpoint = (x1 + x2) / 2\n",
    "        \n",
    "    return midpoint\n",
    "\n",
    "x = bisection_method(f,4.0,6.0,0.0)   \n",
    "print(f\"La raiz x1 esta en: {x}\")\n",
    "print(f\"f(x1) = {f(x)}\")\n",
    "\n",
    "x = bisection_method(f,-6.0,-4.0,0.0)   \n",
    "print(f\"\\nLa raiz x2 esta en: {x}\")\n",
    "print(f\"f(x2) = {f(x)}\")\n",
    "\n",
    "x = bisection_method(f,-0.5,-2.5,0.0)\n",
    "print(f\"\\nLa raiz x3 esta en: {x}\")\n",
    "print(f\"f(x3) = {f(x)}\")"
   ]
  },
  {
   "cell_type": "code",
   "execution_count": 46,
   "id": "fdb39599",
   "metadata": {},
   "outputs": [
    {
     "name": "stdout",
     "output_type": "stream",
     "text": [
      "Help on built-in function format in module builtins:\n",
      "\n",
      "format(value, format_spec='', /)\n",
      "    Return value.__format__(format_spec)\n",
      "    \n",
      "    format_spec defaults to the empty string.\n",
      "    See the Format Specification Mini-Language section of help('FORMATTING') for\n",
      "    details.\n",
      "\n"
     ]
    }
   ],
   "source": [
    "help(format)"
   ]
  },
  {
   "cell_type": "code",
   "execution_count": null,
   "id": "8042b6b6",
   "metadata": {},
   "outputs": [],
   "source": []
  }
 ],
 "metadata": {
  "kernelspec": {
   "display_name": "Python 3",
   "language": "python",
   "name": "python3"
  },
  "language_info": {
   "codemirror_mode": {
    "name": "ipython",
    "version": 3
   },
   "file_extension": ".py",
   "mimetype": "text/x-python",
   "name": "python",
   "nbconvert_exporter": "python",
   "pygments_lexer": "ipython3",
   "version": "3.8.8"
  }
 },
 "nbformat": 4,
 "nbformat_minor": 5
}
