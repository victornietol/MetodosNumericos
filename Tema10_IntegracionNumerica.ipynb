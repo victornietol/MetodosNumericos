{
  "nbformat": 4,
  "nbformat_minor": 0,
  "metadata": {
    "colab": {
      "name": "Tema10_IntegracionNumerica.ipynb",
      "provenance": [],
      "authorship_tag": "ABX9TyOi0EVfWxb0vvbOoenmiukd",
      "include_colab_link": true
    },
    "kernelspec": {
      "name": "python3",
      "display_name": "Python 3"
    },
    "language_info": {
      "name": "python"
    }
  },
  "cells": [
    {
      "cell_type": "markdown",
      "metadata": {
        "id": "view-in-github",
        "colab_type": "text"
      },
      "source": [
        "<a href=\"https://colab.research.google.com/github/victornietol/MetodosNumericos_1360/blob/main/Tema10_IntegracionNumerica.ipynb\" target=\"_parent\"><img src=\"https://colab.research.google.com/assets/colab-badge.svg\" alt=\"Open In Colab\"/></a>"
      ]
    },
    {
      "cell_type": "code",
      "metadata": {
        "colab": {
          "base_uri": "https://localhost:8080/"
        },
        "id": "l9zTyt2HK43E",
        "outputId": "889831db-94ef-491a-93ec-e31ecb49aefa"
      },
      "source": [
        "# Ejercicio 2\n",
        "\n",
        "from math import e\n",
        "\n",
        "def f(x):\n",
        "  return e**x\n",
        "\n",
        "def integracion_numerica(n,function):\n",
        "  aux = 0\n",
        "  derivada = 0 \n",
        "  h = (1/n) / 2\n",
        "  for i in range(int(n)):\n",
        "    derivada += (h/3) * ( (function(aux)) + (4*function(aux+h)) +(function(aux+(2*h)))  )\n",
        "    aux += 2*h\n",
        "    aux = round(aux,6)\n",
        "  return derivada \n",
        "\n",
        "n = float(input(\"Ingrese el valor de n: \"))\n",
        "resultado = integracion_numerica(n,f)\n",
        "print(f\"\\nEl resultado es: {resultado}\")"
      ],
      "execution_count": 26,
      "outputs": [
        {
          "output_type": "stream",
          "name": "stdout",
          "text": [
            "Ingrese el valor de n: 10\n",
            "\n",
            "El resultado es: 1.7182818881038568\n"
          ]
        }
      ]
    }
  ]
}