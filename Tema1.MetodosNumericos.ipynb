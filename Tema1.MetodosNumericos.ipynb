{
 "cells": [
  {
   "cell_type": "code",
   "execution_count": 13,
   "id": "887002e8",
   "metadata": {},
   "outputs": [
    {
     "name": "stdout",
     "output_type": "stream",
     "text": [
      "Ingresa la longitud del primer cateto: 3\n",
      "Ingresa la longitud del segundo cateto: 4\n",
      "\n",
      "El valor de la hipotenusa es: 5.0\n"
     ]
    }
   ],
   "source": [
    "#Ejercicio 1\n",
    "\n",
    "import math\n",
    "\n",
    "c1 = float(input(\"Ingresa la longitud del primer cateto: \"))\n",
    "c2 = float(input(\"Ingresa la longitud del segundo cateto: \"))\n",
    "\n",
    "h = round(math.sqrt((c1**2)+(c2**2)),2)\n",
    "\n",
    "print(f\"\\nEl valor de la hipotenusa es: {h}\")"
   ]
  },
  {
   "cell_type": "code",
   "execution_count": 28,
   "id": "f8074f43",
   "metadata": {},
   "outputs": [
    {
     "name": "stdout",
     "output_type": "stream",
     "text": [
      "Ingresa el valor de a: 5\n",
      "Ingresa el valor de b: -16\n",
      "Ingresa el valor de c: 64\n",
      "\n",
      "El valor de las raíces son las siguientes:\n",
      "a = 2.24, b = 4j, c = 8.0\n"
     ]
    }
   ],
   "source": [
    "#Ejercicio 2\n",
    "\n",
    "import math,cmath\n",
    "\n",
    "a = int(input(\"Ingresa el valor de a: \"))\n",
    "b = int(input(\"Ingresa el valor de b: \"))\n",
    "c = int(input(\"Ingresa el valor de c: \"))\n",
    "\n",
    "if a>0:\n",
    "    a1 = round(math.sqrt(a),2)\n",
    "if a<0:\n",
    "    a1 = cmath.sqrt(a)\n",
    "if b>0:\n",
    "    b1 = round(math.sqrt(b),2)\n",
    "if b<0:\n",
    "    b1 = cmath.sqrt(b)\n",
    "if c>0:\n",
    "    c1 = round(math.sqrt(c),2)\n",
    "if c<0:\n",
    "    c1 = cmath.sqrt(c)\n",
    "\n",
    "\n",
    "print(f\"\\nEl valor de las raíces son las siguientes:\\na = {a1}, b = {b1}, c = {c1}\")"
   ]
  },
  {
   "cell_type": "code",
   "execution_count": 48,
   "id": "1ee3f518",
   "metadata": {},
   "outputs": [
    {
     "name": "stdout",
     "output_type": "stream",
     "text": [
      "Ingrese su año de nacimiento: 1980\n",
      "\n",
      "Te corresponde el signo Mono.\n"
     ]
    }
   ],
   "source": [
    "#Ejercicio 3\n",
    "\n",
    "cerdo = [1911,1923,1935,1947,1959,1971,1983,1995,2007,2019,2031]\n",
    "rata = [1900,1912,1924,1936,1948,1960,1972,1984,1996,2008,2020]\n",
    "bufalo = [1901,1913,1925,1937,1949,1961,1973,1985,1997,2009,2021]\n",
    "tigre = [1902,1914,1926,1938,1950,1962,1974,1986,1998,2010,2022]\n",
    "conejo = [1903,1915,1927,1939,1951,1963,1975,1987,1999,2023]\n",
    "dragon = [1904,1916,1928,1940,1952,1964,1976,1988,2000,2012,2024]\n",
    "serpiente = [1905,1917,1929,1941,1953,1965,1977,1989,2001,2013,2025]\n",
    "caballo = [1906,1918,1930,1942,1954,1966,1978,1990,2002,2014,2026]\n",
    "cabra = [1907,1919,1931,1943,1955,1967,1979,1991,2003,2015,2027]\n",
    "mono = [1908,1920,1932,1944,1956,1968,1980,1992,2004,2016,2028]\n",
    "gallo = [1909,1921,1933,1945,1957,1969,1981,1993,2005,2017,2029]\n",
    "perro = [1910,1922,1934,1946,1958,1970,1982,1994,2006,2018,2030]\n",
    "\n",
    "nac = int(input(\"Ingrese su año de nacimiento: \"))\n",
    "\n",
    "if nac in cerdo:\n",
    "    print(\"\\nTe corresponde el signo Cerdo.\")\n",
    "elif nac in rata:\n",
    "    print(\"\\nTe corresponde el signo Rata.\")\n",
    "elif nac in bufalo:\n",
    "    print(\"\\nTe corresponde el signo Búfalo.\")\n",
    "elif nac in tigre:\n",
    "    print(\"\\nTe corresponde el signo Tigre.\")\n",
    "elif nac in conejo:\n",
    "    print(\"\\nTe corresponde el signo Conejo.\")\n",
    "elif nac in dragon:\n",
    "    print(\"\\nTe corresponde el signo Dragón.\")\n",
    "elif nac in serpiente:\n",
    "    print(\"\\nTe corresponde el signo Serpiente.\")\n",
    "elif nac in caballo:\n",
    "    print(\"\\nTe corresponde el signo Caballo.\")\n",
    "elif nac in cabra:\n",
    "    print(\"\\nTe corresponde el signo Cabra.\")\n",
    "elif nac in mono:\n",
    "    print(\"\\nTe corresponde el signo Mono.\")\n",
    "elif nac in gallo:\n",
    "    print(\"\\nTe corresponde el signo Gallo.\")\n",
    "elif nac in perro:\n",
    "    print(\"\\nTe corresponde el signo Perro.\")"
   ]
  },
  {
   "cell_type": "code",
   "execution_count": 57,
   "id": "d2acab4e",
   "metadata": {},
   "outputs": [
    {
     "name": "stdout",
     "output_type": "stream",
     "text": [
      "1,2,3,4,5,6,7,8,9,10,11,12,13,14,15,16,17,18,19,20,21,22,23,24,25,26,27,28,29,30,31,32,33,34,35,36,37,38,39,40,41,42,43,44,45,46,47,48,49,50,51,52,53,54,55,56,57,58,59,60,61,62,63,64,65,66,67,68,69,70,71,72,73,74,75,76,77,78,79,80,81,82,83,84,85,86,87,88,89,90,91,92,93,94,95,96,97,98,99,100,"
     ]
    }
   ],
   "source": [
    "#Ejercicio 4 , a)\n",
    "\n",
    "n = 1\n",
    "while (n>0) and (n<101):\n",
    "    print(n,end=\",\")\n",
    "    n+=1"
   ]
  },
  {
   "cell_type": "code",
   "execution_count": 58,
   "id": "56351f92",
   "metadata": {},
   "outputs": [
    {
     "name": "stdout",
     "output_type": "stream",
     "text": [
      "0,7,14,21,28,35,42,49,56,63,70,77,84,91,98,105,112,119,126,133,140,147,154,161,168,175,182,189,196,203,210,217,224,231,238,245,252,259,266,273,280,287,294,301,308,315,322,329,336,343,350,357,364,371,378,385,392,399,406,413,420,427,434,441,448,455,462,469,476,483,490,497,504,511,518,525,532,539,546,553,560,567,574,581,588,595,602,609,616,623,630,637,644,651,658,665,672,679,686,693,700,"
     ]
    }
   ],
   "source": [
    "#Ejercicio 4 , b)\n",
    "\n",
    "n = 0\n",
    "while (n>-1) and (n<701):\n",
    "    print(n,end=\",\")\n",
    "    n+=7"
   ]
  },
  {
   "cell_type": "code",
   "execution_count": 59,
   "id": "1b2dbb54",
   "metadata": {},
   "outputs": [
    {
     "name": "stdout",
     "output_type": "stream",
     "text": [
      "100,98,96,94,92,90,88,86,84,82,80,78,76,74,72,70,68,66,64,62,60,58,56,54,52,50,48,46,44,42,40,38,36,34,32,30,28,26,24,22,20,18,16,14,12,10,8,6,4,2,0,"
     ]
    }
   ],
   "source": [
    "#Ejercicio 4 , c)\n",
    "\n",
    "n = 100\n",
    "while (n>-1) and (n<101):\n",
    "    print(n,end=\",\")\n",
    "    n-=2"
   ]
  },
  {
   "cell_type": "code",
   "execution_count": 77,
   "id": "987b5666",
   "metadata": {},
   "outputs": [
    {
     "name": "stdout",
     "output_type": "stream",
     "text": [
      "0.0,0.1,0.2,0.3,0.4,0.5,0.6,0.7,0.8,0.9,1.0,1.1,1.2,1.3,1.4,1.5,1.6,1.7,1.8,1.9,2.0,2.1,2.2,2.3,2.4,2.5,2.6,2.7,2.8,2.9,3.0,3.1,3.2,3.3,3.4,3.5,3.6,3.7,3.8,3.9,4.0,4.1,4.2,4.3,4.4,4.5,4.6,4.7,4.8,4.9,5.0,5.1,5.2,5.3,5.4,5.5,5.6,5.7,5.8,5.9,6.0,6.1,6.2,6.3,6.4,6.5,6.6,6.7,6.8,6.9,7.0,7.1,7.2,7.3,7.4,7.5,7.6,7.7,7.8,7.9,8.0,8.1,8.2,8.3,8.4,8.5,8.6,8.7,8.8,8.9,9.0,9.1,9.2,9.3,9.4,9.5,9.6,9.7,9.8,9.9,10.0,"
     ]
    }
   ],
   "source": [
    "#Ejercicio 4 , d)\n",
    "\n",
    "n = 0\n",
    "while (n>-1) and (n<=10):\n",
    "    print(format(n,'.1f'),end=\",\")\n",
    "    n = n+0.1"
   ]
  },
  {
   "cell_type": "code",
   "execution_count": 79,
   "id": "277b5d83",
   "metadata": {},
   "outputs": [
    {
     "name": "stdout",
     "output_type": "stream",
     "text": [
      "1,2,4,8,16,32,64,128,256,512,1024,2048,4096,8192,16384,32768,"
     ]
    }
   ],
   "source": [
    "#Ejercicio 4 , e)\n",
    "\n",
    "n = 1\n",
    "while (n>0) and (n<=32768):\n",
    "    print(n,end=\",\")\n",
    "    n*=2"
   ]
  },
  {
   "cell_type": "code",
   "execution_count": 84,
   "id": "dcf36f49",
   "metadata": {},
   "outputs": [
    {
     "name": "stdout",
     "output_type": "stream",
     "text": [
      "1,2,3,4,5,6,7,8,9,10,11,12,13,14,15,16,17,18,19,20,21,22,23,24,25,26,27,28,29,30,31,32,33,34,35,36,37,38,39,40,41,42,43,44,45,46,47,48,49,50,51,52,53,54,55,56,57,58,59,60,61,62,63,64,65,66,67,68,69,70,71,72,73,74,75,76,77,78,79,80,81,82,83,84,85,86,87,88,89,90,91,92,93,94,95,96,97,98,99,100,"
     ]
    }
   ],
   "source": [
    "#Ejercicio 5, a)\n",
    "\n",
    "for i in range(1,101,1):\n",
    "    print(i,end=\",\")"
   ]
  },
  {
   "cell_type": "code",
   "execution_count": 85,
   "id": "78446afa",
   "metadata": {},
   "outputs": [
    {
     "name": "stdout",
     "output_type": "stream",
     "text": [
      "0,7,14,21,28,35,42,49,56,63,70,77,84,91,98,105,112,119,126,133,140,147,154,161,168,175,182,189,196,203,210,217,224,231,238,245,252,259,266,273,280,287,294,301,308,315,322,329,336,343,350,357,364,371,378,385,392,399,406,413,420,427,434,441,448,455,462,469,476,483,490,497,504,511,518,525,532,539,546,553,560,567,574,581,588,595,602,609,616,623,630,637,644,651,658,665,672,679,686,693,700,"
     ]
    }
   ],
   "source": [
    "#Ejercicio 5, b)\n",
    "\n",
    "for i in range(0,701,7):\n",
    "    print(i,end=\",\")"
   ]
  },
  {
   "cell_type": "code",
   "execution_count": 88,
   "id": "34eda2b0",
   "metadata": {},
   "outputs": [
    {
     "name": "stdout",
     "output_type": "stream",
     "text": [
      "100,98,96,94,92,90,88,86,84,82,80,78,76,74,72,70,68,66,64,62,60,58,56,54,52,50,48,46,44,42,40,38,36,34,32,30,28,26,24,22,20,18,16,14,12,10,8,6,4,2,0,"
     ]
    }
   ],
   "source": [
    "#Ejercicio 5, c)\n",
    "\n",
    "for i in range(100,-1,-2):\n",
    "    print(i,end=\",\")"
   ]
  },
  {
   "cell_type": "code",
   "execution_count": 100,
   "id": "da47266b",
   "metadata": {},
   "outputs": [
    {
     "name": "stdout",
     "output_type": "stream",
     "text": [
      "0.0,0.1,0.2,0.3,0.4,0.5,0.6,0.7,0.8,0.9,1.0,1.1,1.2,1.3,1.4,1.5,1.6,1.7,1.8,1.9,2.0,2.1,2.2,2.3,2.4,2.5,2.6,2.7,2.8,2.9,3.0,3.1,3.2,3.3,3.4,3.5,3.6,3.7,3.8,3.9,4.0,4.1,4.2,4.3,4.4,4.5,4.6,4.7,4.8,4.9,5.0,5.1,5.2,5.3,5.4,5.5,5.6,5.7,5.8,5.9,6.0,6.1,6.2,6.3,6.4,6.5,6.6,6.7,6.8,6.9,7.0,7.1,7.2,7.3,7.4,7.5,7.6,7.7,7.8,7.9,8.0,8.1,8.2,8.3,8.4,8.5,8.6,8.7,8.8,8.9,9.0,9.1,9.2,9.3,9.4,9.5,9.6,9.7,9.8,9.9,10.0,"
     ]
    }
   ],
   "source": [
    "#Ejercicio 5, d)\n",
    "\n",
    "n = 0.0\n",
    "for i in range(101):\n",
    "    print(format(n,'.1f'),end=\",\")\n",
    "    n+=0.1"
   ]
  },
  {
   "cell_type": "code",
   "execution_count": 110,
   "id": "ca42e9f3",
   "metadata": {},
   "outputs": [
    {
     "name": "stdout",
     "output_type": "stream",
     "text": [
      "1,2,4,8,16,32,64,128,256,512,1024,2048,4096,8192,16384,32768,"
     ]
    }
   ],
   "source": [
    "#Ejercicio 5, e)\n",
    "\n",
    "n = 1\n",
    "for i in range(16):\n",
    "    print(n,end=\",\")\n",
    "    n*=2    "
   ]
  },
  {
   "cell_type": "code",
   "execution_count": 181,
   "id": "555645e3",
   "metadata": {
    "scrolled": true
   },
   "outputs": [
    {
     "name": "stdout",
     "output_type": "stream",
     "text": [
      "2,3,5,7,11,13,17,19,23,29,31,37,41,43,47,53,59,61,67,71,73,79,83,89,97,101,103,107,109,113,127,131,137,139,149,151,157,163,167,173,179,181,191,193,197,199,211,223,227,229,233,239,241,251,257,263,269,271,277,281,283,293,307,311,313,317,331,337,347,349,353,359,367,373,379,383,389,397,401,409,419,421,431,433,439,443,449,457,461,463,467,479,487,491,499,503,509,521,523,541,547,557,563,569,571,577,587,593,599,601,607,613,617,619,631,641,643,647,653,659,661,673,677,683,691,701,709,719,727,733,739,743,751,757,761,769,773,787,797,809,811,821,823,827,829,839,853,857,859,863,877,881,883,887,907,911,919,929,937,941,947,953,967,971,977,983,991,997,"
     ]
    }
   ],
   "source": [
    "#Ejercicio 6 \n",
    "\n",
    "n = 1\n",
    "while n<=1000:\n",
    "    cont = 1\n",
    "    aux = 0\n",
    "    while cont<=n:\n",
    "        if (n%cont) == 0:\n",
    "            aux+=1\n",
    "        cont+=1\n",
    "    if aux == 2:\n",
    "        print(n,end=\",\")\n",
    "    n+=1"
   ]
  },
  {
   "cell_type": "code",
   "execution_count": 161,
   "id": "6b78cf00",
   "metadata": {
    "scrolled": true
   },
   "outputs": [
    {
     "data": {
      "image/png": "[encoded data removed]",
      "text/plain": [
       "<Figure size 432x288 with 1 Axes>"
      ]
     },
     "metadata": {
      "needs_background": "light"
     },
     "output_type": "display_data"
    }
   ],
   "source": [
    "#Ejercicio 7, a)\n",
    "\n",
    "import numpy as np\n",
    "import matplotlib.pyplot as plt\n",
    "\n",
    "x = np.arange(-20.0,20.0,0.01)\n",
    "y = (x**2)+3\n",
    "\n",
    "plt.plot(x,y)\n",
    "plt.show()"
   ]
  },
  {
   "cell_type": "code",
   "execution_count": 170,
   "id": "d482ecf9",
   "metadata": {
    "scrolled": true
   },
   "outputs": [
    {
     "data": {
      "image/png": "[encoded data removed]",
      "text/plain": [
       "<Figure size 432x288 with 1 Axes>"
      ]
     },
     "metadata": {
      "needs_background": "light"
     },
     "output_type": "display_data"
    }
   ],
   "source": [
    "#Ejercicio 7, b)\n",
    "\n",
    "import numpy as np\n",
    "import matplotlib.pyplot as plt\n",
    "\n",
    "x = np.arange(0,360)\n",
    "x = np.radians(x)\n",
    "y = np.sin(x)\n",
    "\n",
    "plt.plot(x,y)\n",
    "plt.show()"
   ]
  },
  {
   "cell_type": "code",
   "execution_count": 179,
   "id": "56bab6ae",
   "metadata": {},
   "outputs": [
    {
     "data": {
      "image/png": "[encoded data removed]",
      "text/plain": [
       "<Figure size 432x288 with 1 Axes>"
      ]
     },
     "metadata": {
      "needs_background": "light"
     },
     "output_type": "display_data"
    }
   ],
   "source": [
    "#Ejercicio 7, c)\n",
    "\n",
    "import numpy as np\n",
    "import matplotlib.pyplot as plt\n",
    "import math\n",
    "\n",
    "x = np.arange(-10,10,0.01)\n",
    "y = (math.e)**(-x)\n",
    "\n",
    "plt.plot(x,y)\n",
    "plt.show()"
   ]
  },
  {
   "cell_type": "code",
   "execution_count": null,
   "id": "636689fe",
   "metadata": {},
   "outputs": [],
   "source": []
  }
 ],
 "metadata": {
  "kernelspec": {
   "display_name": "Python 3",
   "language": "python",
   "name": "python3"
  },
  "language_info": {
   "codemirror_mode": {
    "name": "ipython",
    "version": 3
   },
   "file_extension": ".py",
   "mimetype": "text/x-python",
   "name": "python",
   "nbconvert_exporter": "python",
   "pygments_lexer": "ipython3",
   "version": "3.8.8"
  }
 },
 "nbformat": 4,
 "nbformat_minor": 5
}
