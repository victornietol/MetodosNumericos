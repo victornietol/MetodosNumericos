{
 "cells": [
  {
   "cell_type": "code",
   "execution_count": 59,
   "id": "0549358c",
   "metadata": {},
   "outputs": [
    {
     "name": "stdout",
     "output_type": "stream",
     "text": [
      "Ingrese el valor de x: 3\n",
      "Ingrese el grado del polinomio: 6\n",
      "\n",
      "El resultado de evaluar f(x) a través del polinomio de MacLaurin es: 19.4125\n"
     ]
    }
   ],
   "source": [
    "# Aplicando redondeo de 8 digitos después del punto \n",
    "\n",
    "from math import e,factorial\n",
    "\n",
    "def f(x):\n",
    "    return e**x\n",
    "\n",
    "def macLaurin_method(x,n):\n",
    "    valor_serie_final = 0\n",
    "    for index in range(n+1):\n",
    "        derivada = f(0)\n",
    "        fac = factorial(index)\n",
    "        val_x = x**index\n",
    "        valor_serie = round(((derivada / fac) * val_x),8)\n",
    "        valor_serie_final = round(valor_serie_final + valor_serie,8)\n",
    "    return valor_serie_final\n",
    "\n",
    "x = float(input(\"Ingrese el valor de x: \"))\n",
    "n = int(input(\"Ingrese el grado del polinomio: \"))\n",
    "\n",
    "resultado = macLaurin_method(x,n)\n",
    "print(f\"\\nEl resultado de evaluar f(x) a través del polinomio de MacLaurin es: {resultado}\")"
   ]
  },
  {
   "cell_type": "code",
   "execution_count": 52,
   "id": "a7fbf7cb",
   "metadata": {},
   "outputs": [
    {
     "name": "stdout",
     "output_type": "stream",
     "text": [
      "Ingrese el valor de x: 3\n",
      "Ingrese el grado del polinomio: 6\n",
      "\n",
      "El resultado de evaluar f(x) a través del polinomio de MacLaurin es: 19.412499999999998\n"
     ]
    }
   ],
   "source": [
    "# Sin aplicar redondeo\n",
    "\n",
    "from math import e,factorial\n",
    "\n",
    "def f(x):\n",
    "    return e**x\n",
    "\n",
    "def macLaurin_method(x,n):\n",
    "    valor_serie_final = 0\n",
    "    for index in range(n+1):\n",
    "        derivada = f(0)\n",
    "        fac = factorial(index)\n",
    "        val_x = x**index\n",
    "        valor_serie = (derivada / fac) * val_x\n",
    "        valor_serie_final = valor_serie_final + valor_serie\n",
    "    return valor_serie_final\n",
    "\n",
    "x = float(input(\"Ingrese el valor de x: \"))\n",
    "n = int(input(\"Ingrese el grado del polinomio: \"))\n",
    "\n",
    "resultado = macLaurin_method(x,n)\n",
    "print(f\"\\nEl resultado de evaluar f(x) a través del polinomio de MacLaurin es: {resultado}\")"
   ]
  }
 ],
 "metadata": {
  "kernelspec": {
   "display_name": "Python 3",
   "language": "python",
   "name": "python3"
  },
  "language_info": {
   "codemirror_mode": {
    "name": "ipython",
    "version": 3
   },
   "file_extension": ".py",
   "mimetype": "text/x-python",
   "name": "python",
   "nbconvert_exporter": "python",
   "pygments_lexer": "ipython3",
   "version": "3.8.8"
  }
 },
 "nbformat": 4,
 "nbformat_minor": 5
}
