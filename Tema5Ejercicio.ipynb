{
  "nbformat": 4,
  "nbformat_minor": 0,
  "metadata": {
    "colab": {
      "name": "Tema5Ejercicio.ipynb",
      "provenance": [],
      "authorship_tag": "ABX9TyP/2C2E3nLaPCkPgQgda/fM",
      "include_colab_link": true
    },
    "kernelspec": {
      "name": "python3",
      "display_name": "Python 3"
    },
    "language_info": {
      "name": "python"
    }
  },
  "cells": [
    {
      "cell_type": "markdown",
      "metadata": {
        "id": "view-in-github",
        "colab_type": "text"
      },
      "source": [
        "<a href=\"https://colab.research.google.com/github/victornietol/MetodosNumericos_1360/blob/main/Tema5Ejercicio.ipynb\" target=\"_parent\"><img src=\"https://colab.research.google.com/assets/colab-badge.svg\" alt=\"Open In Colab\"/></a>"
      ]
    },
    {
      "cell_type": "code",
      "metadata": {
        "colab": {
          "base_uri": "https://localhost:8080/"
        },
        "id": "s_lxxeUfdaVG",
        "outputId": "a270d525-c146-463b-9ffd-ba796c264880"
      },
      "source": [
        "import numpy as np\n",
        "n =4\n",
        "matriz = [[ 0 for i in range(n)]for i in range(n)]\n",
        "for ren in range(n):\n",
        "  for col in range(n):\n",
        "    matriz[ren][col] = int(input(f\"Ingresa el valor del coeficiente a{ren+1},{col+1}: \"))\n",
        "matriz2 = np.array(matriz)\n",
        "det = np.linalg.det(matriz2) \n",
        "print(round(det))"
      ],
      "execution_count": null,
      "outputs": [
        {
          "output_type": "stream",
          "name": "stdout",
          "text": [
            "Ingresa el valor del coeficiente a1,1: 4\n",
            "Ingresa el valor del coeficiente a1,2: -2\n",
            "Ingresa el valor del coeficiente a1,3: 3\n",
            "Ingresa el valor del coeficiente a1,4: 1\n",
            "Ingresa el valor del coeficiente a2,1: 1\n",
            "Ingresa el valor del coeficiente a2,2: 1\n",
            "Ingresa el valor del coeficiente a2,3: 1\n",
            "Ingresa el valor del coeficiente a2,4: -1\n",
            "Ingresa el valor del coeficiente a3,1: 2\n",
            "Ingresa el valor del coeficiente a3,2: 2\n",
            "Ingresa el valor del coeficiente a3,3: -1\n",
            "Ingresa el valor del coeficiente a3,4: 1\n",
            "Ingresa el valor del coeficiente a4,1: 1\n",
            "Ingresa el valor del coeficiente a4,2: 0\n",
            "Ingresa el valor del coeficiente a4,3: 1\n",
            "Ingresa el valor del coeficiente a4,4: -5\n",
            "84\n"
          ]
        }
      ]
    },
    {
      "cell_type": "code",
      "metadata": {
        "colab": {
          "base_uri": "https://localhost:8080/"
        },
        "id": "004ht6tVwwKD",
        "outputId": "5481df2b-7a68-4460-81cc-a35a7f8f75ef"
      },
      "source": [
        "import numpy as np\n",
        "\n",
        "def solucion_SE(n):\n",
        "  matriz = [[ 0 for i in range(n)]for i in range(n)]\n",
        "  b = [0 for x in range(n)]\n",
        "\n",
        "  for ren in range(n):\n",
        "    for col in range(n):\n",
        "      matriz[ren][col] = int(input(f\"Ingresa el valor del coeficiente a{ren+1},{col+1}: \"))\n",
        "    b[ren] = int(input(f\"Ingresa el valor de b{ren+1}: \"))\n",
        "\n",
        "  matriz2 = np.array(matriz)\n",
        "  det = round(np.linalg.det(matriz2))\n",
        "\n",
        "  if det != 0:\n",
        "    for ren in range(n):\n",
        "      matriz[ren].append(b[ren])\n",
        "\n",
        "    for i in range(n):     \n",
        "      if matriz[i][i] == 0:\n",
        "        cont = 1\n",
        "        while matriz[i][i] == 0:\n",
        "          if matriz[i+cont][i] != 0:\n",
        "            aux = matriz[i] \n",
        "            matriz[i] = matriz[i+cont]\n",
        "            matriz[i+cont] = aux\n",
        "          else:\n",
        "            cont += 1\n",
        "\n",
        "      if matriz[i][i] < 1:\n",
        "        aux1 = matriz[i][i]\n",
        "        for j in range(n+1):\n",
        "          matriz[i][j] =   (-1/aux1) * (matriz[i][j])   \n",
        "      \n",
        "      if matriz[i][i] > 1:\n",
        "        aux2 = matriz[i][i]\n",
        "        for j in range(n+1):\n",
        "          matriz[i][j] =   (1/aux2) * (matriz[i][j])  \n",
        "\n",
        "      if matriz[i][i] == -1:\n",
        "        for j in range(n+1):\n",
        "          matriz[i][j] = (-1) * matriz[i][j]\n",
        "\n",
        "      if matriz[i][i] == 1 :\n",
        "          for index in range(i+1,n):\n",
        "            if matriz [index][i] == 0:\n",
        "              pass\n",
        "            else:\n",
        "              aux3 = matriz[index][i]\n",
        "              for j in range(n+1):\n",
        "                matriz[index][j] = matriz[index][j] - ( aux3 * (matriz[i][j]) )\n",
        "\n",
        "          for index in range(i-1,-1,-1):\n",
        "            if matriz [index][i] == 0:\n",
        "              pass\n",
        "            else:\n",
        "              aux3 = matriz[index][i]\n",
        "              for j in range(n+1):\n",
        "                matriz[index][j] = matriz[index][j] - ( aux3 * (matriz[i][j]) )\n",
        "    \n",
        "    for ren in range(n):\n",
        "      print(f\"Solución {ren+1} = {matriz[ren][n]}\")\n",
        "\n",
        "  else:\n",
        "    return \"No tiene solución única\" \n",
        "\n",
        "n = int(input(\"Ingresa el valor de n, correspondiente a la matriz n x n: \"))\n",
        "solucion_SE(n)"
      ],
      "execution_count": 41,
      "outputs": [
        {
          "output_type": "stream",
          "name": "stdout",
          "text": [
            "Ingresa el valor de n, correspondiente a la matriz n x n: 4\n",
            "Ingresa el valor del coeficiente a1,1: 4\n",
            "Ingresa el valor del coeficiente a1,2: -2\n",
            "Ingresa el valor del coeficiente a1,3: 3\n",
            "Ingresa el valor del coeficiente a1,4: 1\n",
            "Ingresa el valor de b1: 13\n",
            "Ingresa el valor del coeficiente a2,1: 1\n",
            "Ingresa el valor del coeficiente a2,2: 1\n",
            "Ingresa el valor del coeficiente a2,3: 1\n",
            "Ingresa el valor del coeficiente a2,4: -1\n",
            "Ingresa el valor de b2: 2\n",
            "Ingresa el valor del coeficiente a3,1: 2\n",
            "Ingresa el valor del coeficiente a3,2: 2\n",
            "Ingresa el valor del coeficiente a3,3: -1\n",
            "Ingresa el valor del coeficiente a3,4: 1\n",
            "Ingresa el valor de b3: 7\n",
            "Ingresa el valor del coeficiente a4,1: 1\n",
            "Ingresa el valor del coeficiente a4,2: 0\n",
            "Ingresa el valor del coeficiente a4,3: 1\n",
            "Ingresa el valor del coeficiente a4,4: -5\n",
            "Ingresa el valor de b4: -16\n",
            "Solución 1 = 1.0\n",
            "Solución 2 = 2.0\n",
            "Solución 3 = 3.0\n",
            "Solución 4 = 4.0\n"
          ]
        }
      ]
    }
  ]
}