{
  "nbformat": 4,
  "nbformat_minor": 0,
  "metadata": {
    "colab": {
      "name": "Tema7Ejercicio.ipynb",
      "provenance": [],
      "authorship_tag": "ABX9TyOq0zKHNP2WS1EtapJh8VzF",
      "include_colab_link": true
    },
    "kernelspec": {
      "name": "python3",
      "display_name": "Python 3"
    },
    "language_info": {
      "name": "python"
    }
  },
  "cells": [
    {
      "cell_type": "markdown",
      "metadata": {
        "id": "view-in-github",
        "colab_type": "text"
      },
      "source": [
        "<a href=\"https://colab.research.google.com/github/victornietol/MetodosNumericos_1360/blob/main/Tema7Ejercicio.ipynb\" target=\"_parent\"><img src=\"https://colab.research.google.com/assets/colab-badge.svg\" alt=\"Open In Colab\"/></a>"
      ]
    },
    {
      "cell_type": "code",
      "metadata": {
        "colab": {
          "base_uri": "https://localhost:8080/"
        },
        "id": "ryDUS-xLlEKa",
        "outputId": "0c06bc41-c687-439a-aaf1-06edaece86ae"
      },
      "source": [
        "import numpy as np\n",
        "\n",
        "def newton_raphson(x,y):\n",
        "  n = 2\n",
        "  error = 10.0\n",
        "\n",
        "  while abs(error) > 0.001:\n",
        "    derivada = [[2.0*x , 2.0*y], [y , x]]\n",
        "    function = [ -(x**2) - (y**2) + 3.0 , (-(x*y)) + 1.0]\n",
        "\n",
        "    matriz = [[ 0 for i in range(n)]for i in range(n)]\n",
        "    b = [0 for x in range(n)]\n",
        "\n",
        "    for ren in range(n):\n",
        "      for col in range(n):\n",
        "        matriz[ren][col] = derivada[ren][col]\n",
        "      b[ren] = function[ren]\n",
        "\n",
        "    matriz2 = np.array(matriz)\n",
        "    det = round(np.linalg.det(matriz2))\n",
        "\n",
        "    if det != 0:\n",
        "      for ren in range(n):\n",
        "        matriz[ren].append(b[ren])\n",
        "\n",
        "      for i in range(n):     \n",
        "        if matriz[i][i] == 0:\n",
        "          cont = 1\n",
        "          while matriz[i][i] == 0:\n",
        "            if matriz[i+cont][i] != 0:\n",
        "              aux = matriz[i] \n",
        "              matriz[i] = matriz[i+cont]\n",
        "              matriz[i+cont] = aux\n",
        "            else:\n",
        "              cont += 1\n",
        "\n",
        "        if matriz[i][i] < 1:\n",
        "          aux1 = matriz[i][i]\n",
        "          for j in range(n+1):\n",
        "            matriz[i][j] =   (-1/aux1) * (matriz[i][j])   \n",
        "      \n",
        "        if matriz[i][i] > 1:\n",
        "          aux2 = matriz[i][i]\n",
        "          for j in range(n+1):\n",
        "            matriz[i][j] =   (1/aux2) * (matriz[i][j])  \n",
        "\n",
        "        if matriz[i][i] == -1:\n",
        "          for j in range(n+1):\n",
        "            matriz[i][j] = (-1) * matriz[i][j]\n",
        "\n",
        "        if matriz[i][i] == 1 :\n",
        "            for index in range(i+1,n):\n",
        "              if matriz [index][i] == 0:\n",
        "                pass\n",
        "              else:\n",
        "                aux3 = matriz[index][i]\n",
        "                for j in range(n+1):\n",
        "                  matriz[index][j] = matriz[index][j] - ( aux3 * (matriz[i][j]) )\n",
        "\n",
        "            for index in range(i-1,-1,-1):\n",
        "              if matriz [index][i] == 0:\n",
        "                pass\n",
        "              else:\n",
        "                aux3 = matriz[index][i]\n",
        "                for j in range(n+1):\n",
        "                  matriz[index][j] = matriz[index][j] - ( aux3 * (matriz[i][j]) )\n",
        "\n",
        "      deltaX = matriz[0][2]\n",
        "      deltaY = matriz[1][2]\n",
        "\n",
        "      error = np.sqrt( (deltaX ** 2) + (deltaY ** 2) )  \n",
        "      x += deltaX\n",
        "      y += deltaY \n",
        "    \n",
        "\n",
        "  return x,y\n",
        "\n",
        "x,y = newton_raphson(0.5,1.5)\n",
        "print(f\"x = {x} , y = {y}\")"
      ],
      "execution_count": null,
      "outputs": [
        {
          "output_type": "stream",
          "name": "stdout",
          "text": [
            "x = 0.618033988957902 , y = 1.618033988957902\n"
          ]
        }
      ]
    }
  ]
}