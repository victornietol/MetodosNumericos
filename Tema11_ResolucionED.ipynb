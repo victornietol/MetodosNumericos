{
  "nbformat": 4,
  "nbformat_minor": 0,
  "metadata": {
    "colab": {
      "name": "Tema11_ResolucionED.ipynb",
      "provenance": [],
      "authorship_tag": "ABX9TyMGD0Dj44/w7Bjwvilobnw/",
      "include_colab_link": true
    },
    "kernelspec": {
      "name": "python3",
      "display_name": "Python 3"
    },
    "language_info": {
      "name": "python"
    }
  },
  "cells": [
    {
      "cell_type": "markdown",
      "metadata": {
        "id": "view-in-github",
        "colab_type": "text"
      },
      "source": [
        "<a href=\"https://colab.research.google.com/github/victornietol/MetodosNumericos_1360/blob/main/Tema11_ResolucionED.ipynb\" target=\"_parent\"><img src=\"https://colab.research.google.com/assets/colab-badge.svg\" alt=\"Open In Colab\"/></a>"
      ]
    },
    {
      "cell_type": "code",
      "metadata": {
        "colab": {
          "base_uri": "https://localhost:8080/"
        },
        "id": "VPZTHM5tdekr",
        "outputId": "99bd41bc-0808-4f6a-ca42-882311354326"
      },
      "source": [
        "#Ejemplo de la clase programado\n",
        "\n",
        "def f1(x,y):\n",
        "  return 2*x*y\n",
        "\n",
        "def euler(function,h,x,y,valor_evaluacion):\n",
        "  it = 1\n",
        "  while x < valor_evaluacion:\n",
        "    x_res = x + h\n",
        "    y_res = y + ( (h)*function(x,y) )\n",
        "    x = x_res\n",
        "    y = y_res\n",
        "    print(f\"iteracion {it}: y = {y}\")\n",
        "    it += 1\n",
        "  return y\n",
        "\n",
        "resultado = euler(f1,0.1,1,1,1.5)\n",
        "print(resultado)"
      ],
      "execution_count": 9,
      "outputs": [
        {
          "output_type": "stream",
          "name": "stdout",
          "text": [
            "iteracion 1: y = 1.0\n",
            "iteracion 2: y = 1.02\n",
            "iteracion 3: y = 1.054\n",
            "iteracion 4: y = 1.0978\n",
            "iteracion 5: y = 1.1484600000000003\n",
            "1.1484600000000003\n"
          ]
        }
      ]
    },
    {
      "cell_type": "code",
      "metadata": {
        "colab": {
          "base_uri": "https://localhost:8080/"
        },
        "id": "EgGD8Z51bVw9",
        "outputId": "ce51784e-a7d4-4621-d680-4c514bdc3261"
      },
      "source": [
        "#Ejercicio 1a (es para comprobar resultado)\n",
        "\n",
        "def f(x,y):\n",
        "  return (2*x) - (3*y) + 1\n",
        "\n",
        "def euler(function,h,x,y,valor_evaluacion):\n",
        "  while x < valor_evaluacion:\n",
        "    x_res = x + h\n",
        "    y_res = y + ( (h)*function(x,y) )\n",
        "    x = x_res\n",
        "    y = y_res\n",
        "  return y\n",
        "\n",
        "resultado = euler(f,0.1,1,5,1.5)\n",
        "print(resultado)"
      ],
      "execution_count": 1,
      "outputs": [
        {
          "output_type": "stream",
          "name": "stdout",
          "text": [
            "1.8207400000000002\n"
          ]
        }
      ]
    },
    {
      "cell_type": "code",
      "metadata": {
        "colab": {
          "base_uri": "https://localhost:8080/"
        },
        "id": "zZcaDNxted_z",
        "outputId": "f96274e4-7d55-4e03-81cd-ee5bdfb8bdc0"
      },
      "source": [
        "# Ejercicio 1b y 2 (Aplicando método Runge-Kutta)\n",
        "\n",
        "def f(x,y):\n",
        "  return (2*x) - (3*y) + 1\n",
        "\n",
        "def Runge_Kutta(function,h,x,y,valor_evaluacion):\n",
        "  while x < valor_evaluacion:\n",
        "    x_res = x + h\n",
        "    k1 = h * function(x,y)\n",
        "    k2 = h * function( (x + (0.5 * h) ), (y + (0.5 * k1)) )\n",
        "    k3 = h * function( (x + (0.5 * h) ), (y + (0.5 * k2)) )\n",
        "    k4 = h * function( (x + h) , (y + k3) )\n",
        "    y_res = y + ( (1/6) * (k1 + (2*k2) + (2*k3) + k4) )\n",
        "    x = x_res\n",
        "    y = y_res\n",
        "  return y\n",
        "\n",
        "resultado = Runge_Kutta(f,0.1,1,5,1.5)\n",
        "print(f\"El resultado es: {resultado}\")"
      ],
      "execution_count": 13,
      "outputs": [
        {
          "output_type": "stream",
          "name": "stdout",
          "text": [
            "El resultado es: 2.0533388265212693\n"
          ]
        }
      ]
    }
  ]
}