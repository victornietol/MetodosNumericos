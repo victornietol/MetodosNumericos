{
  "nbformat": 4,
  "nbformat_minor": 0,
  "metadata": {
    "colab": {
      "name": "Tema12_MetodoMontecarlo.ipynb",
      "provenance": [],
      "authorship_tag": "ABX9TyO7/xDgtYRr25i7++E39RKR",
      "include_colab_link": true
    },
    "kernelspec": {
      "name": "python3",
      "display_name": "Python 3"
    },
    "language_info": {
      "name": "python"
    }
  },
  "cells": [
    {
      "cell_type": "markdown",
      "metadata": {
        "id": "view-in-github",
        "colab_type": "text"
      },
      "source": [
        "<a href=\"https://colab.research.google.com/github/victornietol/MetodosNumericos_1360/blob/main/Tema12_MetodoMontecarlo.ipynb\" target=\"_parent\"><img src=\"https://colab.research.google.com/assets/colab-badge.svg\" alt=\"Open In Colab\"/></a>"
      ]
    },
    {
      "cell_type": "code",
      "metadata": {
        "colab": {
          "base_uri": "https://localhost:8080/"
        },
        "id": "GX5cDCOS3W2w",
        "outputId": "82c9beb3-230c-4a0b-c195-feb3a8b3b3dd"
      },
      "source": [
        "# Generacion de numeros aleatorios\n",
        "\n",
        "import numpy as np\n",
        "\n",
        "np.random.seed(0)\n",
        "\n",
        "for i in range(0,20):\n",
        "    random_number = np.random.uniform(0,1)\n",
        "    print(random_number)"
      ],
      "execution_count": 1,
      "outputs": [
        {
          "output_type": "stream",
          "name": "stdout",
          "text": [
            "0.5488135039273248\n",
            "0.7151893663724195\n",
            "0.6027633760716439\n",
            "0.5448831829968969\n",
            "0.4236547993389047\n",
            "0.6458941130666561\n",
            "0.4375872112626925\n",
            "0.8917730007820798\n",
            "0.9636627605010293\n",
            "0.3834415188257777\n",
            "0.7917250380826646\n",
            "0.5288949197529045\n",
            "0.5680445610939323\n",
            "0.925596638292661\n",
            "0.07103605819788694\n",
            "0.08712929970154071\n",
            "0.02021839744032572\n",
            "0.832619845547938\n",
            "0.7781567509498505\n",
            "0.8700121482468192\n"
          ]
        }
      ]
    },
    {
      "cell_type": "code",
      "metadata": {
        "colab": {
          "base_uri": "https://localhost:8080/"
        },
        "id": "Bg0pwVIl3hIA",
        "outputId": "7e597184-26aa-461b-e11e-55a8da87f784"
      },
      "source": [
        "# Ejercicio (Ejemplo clase)\n",
        "\n",
        "import math\n",
        "import numpy as np\n",
        "\n",
        "def integral_montecarlo(n, lim_inf, lim_sup):\n",
        "    np.random.seed(0)\n",
        "    count = 0\n",
        "    for i in range(0, n):\n",
        "        x_random = np.random.uniform(lim_inf, lim_sup)\n",
        "        y_random = np.random.uniform(lim_inf, math.exp(lim_sup))\n",
        "        fx = math.exp(x_random)\n",
        "        if y_random < fx:\n",
        "            count += 1\n",
        "    porcentaje = (count/n) * 100\n",
        "    area = (math.exp(lim_sup) * porcentaje) / 100\n",
        "    return area\n",
        "\n",
        "resultado = integral_montecarlo(1000000,0,1)\n",
        "print(resultado)"
      ],
      "execution_count": 2,
      "outputs": [
        {
          "output_type": "stream",
          "name": "stdout",
          "text": [
            "1.7183754492695278\n"
          ]
        }
      ]
    },
    {
      "cell_type": "code",
      "metadata": {
        "colab": {
          "base_uri": "https://localhost:8080/"
        },
        "id": "IJ3oRhWl9M4H",
        "outputId": "6006f44a-3389-455b-8c69-58da0e712a73"
      },
      "source": [
        "# Ejercicio cuadernillo\n",
        "\n",
        "import math\n",
        "import numpy as np\n",
        "\n",
        "def integral_montecarlo(n, lim_inf, lim_sup):\n",
        "    np.random.seed(0)\n",
        "    count = 0\n",
        "    for i in range(0, n):\n",
        "        x_random = np.random.uniform(lim_inf, lim_sup)\n",
        "        y_random = np.random.uniform(lim_inf, math.exp(lim_sup))\n",
        "        fx = math.exp(x_random)\n",
        "        if y_random < fx:\n",
        "            count += 1\n",
        "    porcentaje = (count/n) * 100\n",
        "    area = (math.exp(lim_sup) * porcentaje) / 100\n",
        "    return area\n",
        "\n",
        "repeticiones = [100, 1000, 10000, 100000, 1000000]\n",
        "print(\"Resultados:\\n|  n  |  Resultado  |\\n---------------------\")\n",
        "for n in repeticiones:\n",
        "    resultado = integral_montecarlo(n, 2, 4)\n",
        "    print(f\"| {n} | {resultado} |\")"
      ],
      "execution_count": 5,
      "outputs": [
        {
          "output_type": "stream",
          "name": "stdout",
          "text": [
            "Resultados:\n",
            "|  n  |  Resultado  |\n",
            "---------------------\n",
            "| 100 | 27.299075016572118 |\n",
            "| 1000 | 22.385241513589136 |\n",
            "| 10000 | 22.483518183648798 |\n",
            "| 100000 | 22.37868973558516 |\n",
            "| 1000000 | 22.417399823958657 |\n"
          ]
        }
      ]
    }
  ]
}