{
 "cells": [
  {
   "cell_type": "code",
   "execution_count": 2,
   "id": "ddc23872",
   "metadata": {},
   "outputs": [
    {
     "name": "stdout",
     "output_type": "stream",
     "text": [
      "La raíz x1 esta en: 5.1195831646373735\n",
      "f(x1) = 2.1316282072803006e-14\n",
      "\n",
      "La raíz x2 esta en: -5.119544514419474\n",
      "f(x2) = 2.1316282072803006e-14\n",
      "\n",
      "La raíz x3 esta en: -1.7100386502178995\n",
      "f(x3) = 0.0\n"
     ]
    }
   ],
   "source": [
    "# Controlado por iteraciones\n",
    "\n",
    "def f(x):\n",
    "    return (x**3) + (1.71*(x**2)) - (26.21*x) - 44.82\n",
    "\n",
    "def df(x):\n",
    "    return (3*(x**2)) + (3.42*x) - 26.21\n",
    "\n",
    "def newton_raphson_method(function,derivative,x,iterations):  # x es el valor de la aproximación\n",
    "    for i in range(0,iterations):\n",
    "        x = x -(function(x)/derivative(x))\n",
    "    return x\n",
    "\n",
    "x = newton_raphson_method(f,df,5,10)\n",
    "print(f\"La raíz x1 esta en: {x}\")\n",
    "print(f\"f(x1) = {f(x)}\\n\")\n",
    "\n",
    "x = newton_raphson_method(f,df,-5,10)\n",
    "print(f\"La raíz x2 esta en: {x}\")\n",
    "print(f\"f(x2) = {f(x)}\\n\")\n",
    "\n",
    "x = newton_raphson_method(f,df,-2,10)\n",
    "print(f\"La raíz x3 esta en: {x}\")\n",
    "print(f\"f(x3) = {f(x)}\")"
   ]
  },
  {
   "cell_type": "code",
   "execution_count": 14,
   "id": "d8a5f510",
   "metadata": {},
   "outputs": [
    {
     "name": "stdout",
     "output_type": "stream",
     "text": [
      "La raíz x1 esta en: 5.1195831646399546\n",
      "f(x1) = 1.8052759287456865e-10\n",
      "\n",
      "La raíz x2 esta en: -5.119544514498775\n",
      "f(x2) = -2.76842371249586e-09\n",
      "\n",
      "La raíz x3 esta en: -1.7100386500171654\n",
      "f(x3) = -4.6742272274968855e-09\n"
     ]
    }
   ],
   "source": [
    "# Controlado por e (epsilon * es el error tolerado)\n",
    "\n",
    "def f(x):\n",
    "    return (x**3) + (1.71*(x**2)) - (26.21*x) - 44.82\n",
    "\n",
    "def df(x):\n",
    "    return (3*(x**2)) + (3.42*x) - 26.21\n",
    "\n",
    "def newton_raphson_method(function,derivative,x,e):\n",
    "    incremental = 10                               # x es el valor de la aproximación\n",
    "    while abs(incremental)>=e:                     # e es el error que se esta tolerando\n",
    "        x = x -(function(x)/derivative(x))\n",
    "        incremental = (-(function(x)/derivative(x)))\n",
    "    return x\n",
    "\n",
    "x = newton_raphson_method(f,df,5,0.00000001)      # Podría asignar el error permitido en el codigo para no tener que pedirlo\n",
    "print(f\"La raíz x1 esta en: {x}\")\n",
    "print(f\"f(x1) = {f(x)}\\n\")\n",
    "\n",
    "x = newton_raphson_method(f,df,-5,0.00000001)\n",
    "print(f\"La raíz x2 esta en: {x}\")\n",
    "print(f\"f(x2) = {f(x)}\\n\")\n",
    "\n",
    "x = newton_raphson_method(f,df,-2,0.00000001)\n",
    "print(f\"La raíz x3 esta en: {x}\")\n",
    "print(f\"f(x3) = {f(x)}\")"
   ]
  }
 ],
 "metadata": {
  "kernelspec": {
   "display_name": "Python 3",
   "language": "python",
   "name": "python3"
  },
  "language_info": {
   "codemirror_mode": {
    "name": "ipython",
    "version": 3
   },
   "file_extension": ".py",
   "mimetype": "text/x-python",
   "name": "python",
   "nbconvert_exporter": "python",
   "pygments_lexer": "ipython3",
   "version": "3.8.8"
  }
 },
 "nbformat": 4,
 "nbformat_minor": 5
}
